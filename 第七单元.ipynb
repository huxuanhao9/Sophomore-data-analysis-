{
 "cells": [
  {
   "cell_type": "markdown",
   "metadata": {},
   "source": [
    "# <center><font size=100>信用卡客户风险数据分析报告"
   ]
  },
  {
   "cell_type": "markdown",
   "metadata": {},
   "source": [
    "# <center><font size=10>摘要"
   ]
  },
  {
   "cell_type": "markdown",
   "metadata": {},
   "source": [
    "# <center><font size=10>    \n",
    "    为了推进信用卡业务良性发展，减少坏账风险坏账率和不良贷款率，也为了响应国家的金融安全战略，平稳去杠杆，提高贷款质量\n",
    "    各大银行都进行了信用卡客户风险识别的相关工作，建立了相应的客户风险识别模型。\n",
    "    某银行因旧的风险识别模型随时间推移不再适应业务发展需求，需要重新进行风险识别模型构建。\n",
    "    本报告对信用卡客户数据集进行分析，来试图提高银行利润和减少不良贷款"
   ]
  },
  {
   "cell_type": "markdown",
   "metadata": {},
   "source": [
    "# <center><font size=10>处理信用卡数据的异常值"
   ]
  },
  {
   "cell_type": "code",
   "execution_count": 1,
   "metadata": {},
   "outputs": [
    {
     "name": "stdout",
     "output_type": "stream",
     "text": [
      "删除异常记录后数据的形状为： (63339, 28) (65277, 28) (62837, 28) (60578, 28)\n"
     ]
    }
   ],
   "source": [
    "#训练kmeans聚类模型，并求出聚类中心，每类的用户数目\n",
    "#画图（书本中的五边形）#特征到底是什么鬼#特征背后的数字是什么含义\n",
    "#评价聚类模型\n",
    "from sklearn import metrics\n",
    "from sklearn.cluster import KMeans\n",
    "import matplotlib.pyplot as plt\n",
    "import pandas as pd\n",
    "import numpy as np\n",
    "data1=pd.read_csv(\"D:/Desktop/credit_card.csv\",encoding='gb18030')\n",
    "index1=(data1[\"瑕疵户\"]!=2)|(data1[\"逾期\"]!=1)|(data1[\"呆账\"]!=1)|(data1[\"退票\"]!=1)|(data1[\"拒往记录\"]!=1)|(data1['强制停卡记录']!=1)\n",
    "index2=(data1['呆账']!=1)|(data1['退票']!=1)|(data1['拒往记录']!=2)|(data1['强制停卡记录']!=1)\n",
    "index3=(data1[\"频率\"]!=5)|(data1['月刷卡额']==1)\n",
    "data2 = data1[index1]\n",
    "data3 = data1[index2]\n",
    "data4 = data1[index3]\n",
    "data5 = data1[index1 & index2 & index3]\n",
    "print('删除异常记录后数据的形状为：',data2.shape,data3.shape,data4.shape,data5.shape)"
   ]
  },
  {
   "cell_type": "markdown",
   "metadata": {},
   "source": [
    "# <center><font size=3>\n",
    "    实训一已完成\n",
    "    删除了瑕疵户为2逾期呆账退票拒往记录强制停卡记录为1的记录,删除行为恶劣者;\n",
    "    删除呆账退票强制停卡为1拒往记录为2的记录,删除行为恶劣者;\n",
    "    删除频率为5刷卡金额不为1的数据,删除不常用的人;"
   ]
  },
  {
   "cell_type": "code",
   "execution_count": 2,
   "metadata": {},
   "outputs": [
    {
     "name": "stdout",
     "output_type": "stream",
     "text": [
      "构建的历史行为特征特征前5行为：\n",
      "        0  呆账  退票  拒往记录  强制停卡记录\n",
      "0      0   2   2     2       2\n",
      "1      0   2   2     2       2\n",
      "2      0   2   2     2       2\n",
      "3      0   2   2     2       2\n",
      "4      0   2   2     2       2\n",
      "5      0   2   2     2       2\n",
      "7      0   2   2     2       2\n",
      "8      0   2   2     2       2\n",
      "9      0   2   2     2       2\n",
      "10     0   2   2     2       2\n",
      "11     0   2   2     2       2\n",
      "12     0   1   1     1       1\n",
      "13     0   2   2     1       2\n",
      "14     0   2   2     2       2\n",
      "15     0   2   2     2       2\n",
      "16     0   2   2     2       2\n",
      "17     0   2   2     2       2\n",
      "18     0   1   1     1       1\n",
      "20     0   2   2     2       2\n",
      "21     0   2   2     2       2\n",
      "22     0   2   2     2       2\n",
      "23     0   1   2     1       1\n",
      "24     0   2   2     2       2\n",
      "25     0   2   2     2       2\n",
      "26     0   2   2     2       2\n",
      "27     0   2   2     2       2\n",
      "29     0   2   2     2       2\n",
      "30     0   2   2     2       2\n",
      "31     0   2   2     2       2\n",
      "32     0   2   2     2       2\n",
      "...   ..  ..  ..   ...     ...\n",
      "65500  0   2   2     2       2\n",
      "65501  0   2   2     2       2\n",
      "65502  0   2   2     2       2\n",
      "65503  0   2   2     2       2\n",
      "65504  0   2   2     2       2\n",
      "65505  0   2   2     2       2\n",
      "65506  0   2   2     2       2\n",
      "65507  0   2   2     2       2\n",
      "65510  0   2   2     2       2\n",
      "65511  0   2   2     2       2\n",
      "65512  0   2   2     2       2\n",
      "65513  0   2   2     2       2\n",
      "65514  0   2   2     2       2\n",
      "65515  0   2   2     2       2\n",
      "65516  0   2   2     2       2\n",
      "65518  0   2   2     2       2\n",
      "65519  0   2   2     2       2\n",
      "65520  0   2   2     2       2\n",
      "65521  0   2   2     2       2\n",
      "65523  0   2   2     2       2\n",
      "65524  0   2   2     2       2\n",
      "65525  0   2   2     2       2\n",
      "65526  0   2   2     2       2\n",
      "65527  0   2   2     2       2\n",
      "65528  0   2   2     2       2\n",
      "65529  0   2   2     2       2\n",
      "65530  0   2   2     2       2\n",
      "65531  0   2   2     2       2\n",
      "65532  0   2   2     2       2\n",
      "65534  0   2   2     2       2\n",
      "\n",
      "[60578 rows x 5 columns]\n",
      "标准化后历史行为五个特征为：\n",
      " [[0.06877818 0.22088026 0.23902695 0.24852776 0.25098948]\n",
      " [0.06877818 0.22088026 0.23902695 0.24852776 0.25098948]\n",
      " [0.06877818 0.22088026 0.23902695 0.24852776 0.25098948]\n",
      " [0.06877818 0.22088026 0.23902695 0.24852776 0.25098948]\n",
      " [0.06877818 0.22088026 0.23902695 0.24852776 0.25098948]]\n"
     ]
    }
   ],
   "source": [
    "data5_selection1 = data5[['瑕疵户','逾期','呆账','退票','拒往记录','强制停卡记录']]\n",
    "L = data5_selection1[\"逾期\"]-data5_selection1[\"呆账\"]\n",
    "data5_features1 = pd.concat([L,data5_selection1.iloc[:,2:]],axis = 1)\n",
    "print('构建的历史行为特征特征前5行为：\\n',data5_features1)\n",
    "from sklearn.preprocessing import StandardScaler\n",
    "dataA = StandardScaler().fit_transform(data5_features1)\n",
    "print('标准化后历史行为五个特征为：\\n',dataA[:5,:])"
   ]
  },
  {
   "cell_type": "code",
   "execution_count": 3,
   "metadata": {},
   "outputs": [
    {
     "name": "stdout",
     "output_type": "stream",
     "text": [
      "最终每个类别的数目为：\n",
      " KMeans(algorithm='auto', copy_x=True, init='k-means++', max_iter=300,\n",
      "       n_clusters=5, n_init=10, n_jobs=3, precompute_distances='auto',\n",
      "       random_state=123, tol=0.0001, verbose=0)\n",
      "0    56536\n",
      "1     2818\n",
      "2      580\n",
      "4      514\n",
      "3      130\n",
      "dtype: int64\n"
     ]
    }
   ],
   "source": [
    "dataA_kmeans = KMeans(n_clusters = 5,n_jobs=3,random_state=123).fit(dataA) \n",
    "print('最终每个类别的数目为：\\n',dataA_kmeans)\n",
    "r1=pd.Series(dataA_kmeans.labels_).value_counts()\n",
    "print(r1)"
   ]
  },
  {
   "cell_type": "code",
   "execution_count": 4,
   "metadata": {},
   "outputs": [
    {
     "data": {
      "text/plain": [
       "array([[ 0.06877818,  0.22088026,  0.23394218,  0.24852776,  0.24634494],\n",
       "       [ 0.06877818, -4.30829493, -3.88700628, -3.92515231, -3.98423075],\n",
       "       [-9.18998702,  0.22088026, -3.68798624, -0.6869418 , -3.98423075],\n",
       "       [ 9.32754338, -4.52733986, -1.97230087, -4.02369542, -3.98423075],\n",
       "       [ 0.06877818,  0.22088026,  0.23902695, -4.02369542,  0.25098948]])"
      ]
     },
     "execution_count": 4,
     "metadata": {},
     "output_type": "execute_result"
    }
   ],
   "source": [
    "dataA_kmeans.cluster_centers_  "
   ]
  },
  {
   "cell_type": "code",
   "execution_count": 5,
   "metadata": {},
   "outputs": [
    {
     "data": {
      "text/plain": [
       "array([0, 0, 0, ..., 0, 0, 0])"
      ]
     },
     "execution_count": 5,
     "metadata": {},
     "output_type": "execute_result"
    }
   ],
   "source": [
    "dataA_kmeans.labels_"
   ]
  },
  {
   "cell_type": "code",
   "execution_count": 6,
   "metadata": {},
   "outputs": [],
   "source": [
    "# 绘制雷达图#标签\n",
    "labels = ['瑕疵户','逾期','呆账','退票','拒往记录','强制停卡记录']\n",
    "k = 5"
   ]
  },
  {
   "cell_type": "code",
   "execution_count": 7,
   "metadata": {},
   "outputs": [],
   "source": [
    "plot_data = dataA_kmeans.cluster_centers_#指定颜色"
   ]
  },
  {
   "cell_type": "code",
   "execution_count": 8,
   "metadata": {},
   "outputs": [
    {
     "data": {
      "image/png": "[encoded data removed]",
      "text/plain": [
       "<Figure size 432x288 with 1 Axes>"
      ]
     },
     "metadata": {
      "needs_background": "light"
     },
     "output_type": "display_data"
    }
   ],
   "source": [
    "color = ['b', 'g', 'r', 'c', 'y'] \n",
    "angles = np.linspace(0, 2*np.pi, k, endpoint=False)# 闭合\n",
    "plot_data = np.concatenate((plot_data, plot_data[:,[0]]), axis=1) # 闭合\n",
    "\n",
    "angles = np.concatenate((angles,[angles[0]])) \n",
    "fig = plt.figure()#polar参数\n",
    "ax = fig.add_subplot(111, polar=True) \n",
    "for i in range(len(plot_data)):# 画线\n",
    "    ax.plot(angles, plot_data[i], 'o-', color = color[i], label = 'client'+str(i), linewidth=2)\n",
    "ax.set_rgrids(np.arange(0.01, 3.5, 0.5), np.arange(-1, 2.5, 0.5), fontproperties=\"SimHei\")\n",
    "ax.set_thetagrids(angles * 180/np.pi, labels, fontproperties=\"SimHei\")\n",
    "plt.legend(loc = 4)\n",
    "plt.show()"
   ]
  },
  {
   "cell_type": "code",
   "execution_count": 9,
   "metadata": {},
   "outputs": [
    {
     "name": "stdout",
     "output_type": "stream",
     "text": [
      "[[ 0.06877818  0.22088026  0.23394218  0.24852776  0.24634494]\n",
      " [ 0.06877818 -4.30829493 -3.88700628 -3.92515231 -3.98423075]\n",
      " [-9.18998702  0.22088026 -3.68798624 -0.6869418  -3.98423075]\n",
      " [ 9.32754338 -4.52733986 -1.97230087 -4.02369542 -3.98423075]\n",
      " [ 0.06877818  0.22088026  0.23902695 -4.02369542  0.25098948]]\n"
     ]
    },
    {
     "data": {
      "image/png": "[encoded data removed]",
      "text/plain": [
       "<Figure size 432x288 with 1 Axes>"
      ]
     },
     "metadata": {
      "needs_background": "light"
     },
     "output_type": "display_data"
    }
   ],
   "source": [
    "#聚类可视化\n",
    "x=data5_selection1.iloc[:,:-1]  \n",
    "y=data5_selection1.iloc[:,-1]\n",
    "dataA_pre=dataA_kmeans.predict(x) \n",
    "centers=dataA_kmeans.cluster_centers_   #类别中心\n",
    "print(centers)\n",
    "colors=['r','c','b','g','y']\n",
    "plt.figure()\n",
    "for j in range(3):\n",
    "    index_set=np.where(dataA_pre==j)\n",
    "    cluster=x.iloc[index_set]\n",
    "    plt.scatter(cluster.iloc[:,0],cluster.iloc[:,1],c=colors[j],marker='.')  \n",
    "    plt.plot(centers[j][0],centers[j][1],'o',markerfacecolor=colors[j],markeredgecolor='k',markersize=8)  #画类别中心\n",
    "plt.show()"
   ]
  },
  {
   "cell_type": "code",
   "execution_count": 29,
   "metadata": {},
   "outputs": [],
   "source": [
    "from scipy.interpolate import lagrange\n",
    "from sklearn.metrics import fowlkes_mallows_score\n",
    "from sklearn.preprocessing import MinMaxScaler\n",
    "from sklearn.preprocessing import StandardScaler\n",
    "from sklearn.decomposition import PCA\n",
    "from sklearn.cluster import KMeans\n",
    "from sklearn.manifold import TSNE\n",
    "from sklearn.svm import SVC\n",
    "from sklearn.model_selection import train_test_split\n",
    "import matplotlib.pyplot as plt\n",
    "import seaborn as sns\n",
    "import pandas as pd\n",
    "import numpy as np\n",
    "import csv"
   ]
  },
  {
   "cell_type": "code",
   "execution_count": 35,
   "metadata": {},
   "outputs": [
    {
     "ename": "AttributeError",
     "evalue": "'numpy.ndarray' object has no attribute 'hist'",
     "output_type": "error",
     "traceback": [
      "\u001b[1;31m---------------------------------------------------------------------------\u001b[0m",
      "\u001b[1;31mAttributeError\u001b[0m                            Traceback (most recent call last)",
      "\u001b[1;32m<ipython-input-35-7475868431f1>\u001b[0m in \u001b[0;36m<module>\u001b[1;34m\u001b[0m\n\u001b[0;32m      1\u001b[0m \u001b[0msns\u001b[0m\u001b[1;33m.\u001b[0m\u001b[0mset\u001b[0m\u001b[1;33m(\u001b[0m\u001b[1;33m)\u001b[0m\u001b[1;33m\u001b[0m\u001b[1;33m\u001b[0m\u001b[0m\n\u001b[1;32m----> 2\u001b[1;33m \u001b[0mdataA\u001b[0m\u001b[1;33m.\u001b[0m\u001b[0mhist\u001b[0m\u001b[1;33m(\u001b[0m\u001b[0mfigsize\u001b[0m\u001b[1;33m=\u001b[0m\u001b[1;33m(\u001b[0m\u001b[1;36m10\u001b[0m\u001b[1;33m,\u001b[0m\u001b[1;36m10\u001b[0m\u001b[1;33m)\u001b[0m\u001b[1;33m,\u001b[0m \u001b[0mcolor\u001b[0m\u001b[1;33m=\u001b[0m\u001b[1;34m'red'\u001b[0m\u001b[1;33m)\u001b[0m\u001b[1;33m\u001b[0m\u001b[1;33m\u001b[0m\u001b[0m\n\u001b[0m\u001b[0;32m      3\u001b[0m \u001b[0mplt\u001b[0m\u001b[1;33m.\u001b[0m\u001b[0mshow\u001b[0m\u001b[1;33m(\u001b[0m\u001b[1;33m)\u001b[0m\u001b[1;33m\u001b[0m\u001b[1;33m\u001b[0m\u001b[0m\n\u001b[0;32m      4\u001b[0m \u001b[0mcolormap\u001b[0m \u001b[1;33m=\u001b[0m \u001b[0mplt\u001b[0m\u001b[1;33m.\u001b[0m\u001b[0mcm\u001b[0m\u001b[1;33m.\u001b[0m\u001b[0mviridis\u001b[0m\u001b[1;33m\u001b[0m\u001b[1;33m\u001b[0m\u001b[0m\n\u001b[0;32m      5\u001b[0m \u001b[0mplt\u001b[0m\u001b[1;33m.\u001b[0m\u001b[0mfigure\u001b[0m\u001b[1;33m(\u001b[0m\u001b[0mfigsize\u001b[0m\u001b[1;33m=\u001b[0m\u001b[1;33m(\u001b[0m\u001b[1;36m12\u001b[0m\u001b[1;33m,\u001b[0m\u001b[1;36m12\u001b[0m\u001b[1;33m)\u001b[0m\u001b[1;33m)\u001b[0m\u001b[1;33m\u001b[0m\u001b[1;33m\u001b[0m\u001b[0m\n",
      "\u001b[1;31mAttributeError\u001b[0m: 'numpy.ndarray' object has no attribute 'hist'"
     ]
    }
   ],
   "source": [
    "sns.set()\n",
    "dataA.hist(figsize=(10,10), color='red')\n",
    "plt.show()\n",
    "colormap = plt.cm.viridis\n",
    "plt.figure(figsize=(12,12))\n",
    "plt.title('Correlation of Features', y=1.05, size=15)\n",
    "sns.heatmap(wine.astype(float).corr(),linewidths=0.1,vmax=1.0,square=True,linecolor='white',annot=True)"
   ]
  },
  {
   "cell_type": "markdown",
   "metadata": {},
   "source": [
    "# <center><font size=3>\n",
    "    历史行为特征分别在实训二实训三的应用"
   ]
  },
  {
   "cell_type": "code",
   "execution_count": 11,
   "metadata": {},
   "outputs": [
    {
     "name": "stdout",
     "output_type": "stream",
     "text": [
      "构建的经济风险情况特征前5行为：\n",
      "        0  个人月开销  家庭月收入  月刷卡额\n",
      "0      0      1      1     1\n",
      "1     -1      2      1     2\n",
      "2      0      1      1     6\n",
      "3      0      1      1     4\n",
      "4     -2      3      1     5\n",
      "5     -1      2      1     4\n",
      "7      0      1      1     6\n",
      "8      0      1      1     1\n",
      "9      0      1      1     3\n",
      "10     0      1      1     4\n",
      "11     0      1      1     3\n",
      "12    -1      2      1     4\n",
      "13     0      1      1     2\n",
      "14     0      1      1     5\n",
      "15     0      1      1     3\n",
      "16    -1      2      1     2\n",
      "17     0      1      1     1\n",
      "18     0      1      1     4\n",
      "20    -4      5      1     7\n",
      "21     0      1      1     3\n",
      "22    -3      4      1     2\n",
      "23    -1      2      1     3\n",
      "24     0      1      1     3\n",
      "25    -1      2      1     5\n",
      "26     0      1      1     5\n",
      "27     0      1      1     2\n",
      "29     0      1      1     1\n",
      "30     0      1      1     1\n",
      "31    -2      3      1     4\n",
      "32    -1      2      1     6\n",
      "...   ..    ...    ...   ...\n",
      "65500  2      2      4     2\n",
      "65501  1      3      4     4\n",
      "65502  3      1      4     4\n",
      "65503  2      2      4     2\n",
      "65504  3      1      4     2\n",
      "65505  3      1      4     3\n",
      "65506  3      1      4     3\n",
      "65507  2      2      4     2\n",
      "65510  1      3      4     3\n",
      "65511  1      3      4     2\n",
      "65512 -1      5      4     2\n",
      "65513  1      3      4     6\n",
      "65514  2      2      4     3\n",
      "65515  3      1      4     2\n",
      "65516  2      2      4     7\n",
      "65518  3      1      4     6\n",
      "65519  0      4      4     7\n",
      "65520  3      1      4     6\n",
      "65521  2      2      4     6\n",
      "65523  2      2      4     5\n",
      "65524 -1      5      4     2\n",
      "65525  2      2      4     2\n",
      "65526  3      1      4     6\n",
      "65527  0      4      4     4\n",
      "65528  3      1      4     2\n",
      "65529  3      1      4     3\n",
      "65530  2      2      4     5\n",
      "65531  2      2      4     6\n",
      "65532  2      2      4     3\n",
      "65534  0      1      1     1\n",
      "\n",
      "[60578 rows x 4 columns]\n",
      "标准化后经济风险情况五个特征为：\n",
      " [[-0.68510117 -0.74968558 -1.18316767 -1.6436681 ]\n",
      " [-1.13816557  0.23116695 -1.18316767 -1.01399949]\n",
      " [-0.68510117 -0.74968558 -1.18316767  1.50467492]\n",
      " [-0.68510117 -0.74968558 -1.18316767  0.24533771]\n",
      " [-1.59122997  1.21201948 -1.18316767  0.87500632]]\n"
     ]
    }
   ],
   "source": [
    "data5_selection2 = data5[['借款余额','个人月收入','个人月开销','家庭月收入','月刷卡额']]## 选取需求特征\n",
    "L = data5_selection2[\"个人月收入\"]-data5_selection2[\"个人月开销\"]\n",
    "data5_features2 = pd.concat([L,data5_selection2.iloc[:,2:]],axis = 1)\n",
    "print('构建的经济风险情况特征前5行为：\\n',data5_features2)\n",
    "dataB = StandardScaler().fit_transform(data5_features2)\n",
    "print('标准化后经济风险情况五个特征为：\\n',dataB[:5,:])"
   ]
  },
  {
   "cell_type": "code",
   "execution_count": 12,
   "metadata": {},
   "outputs": [
    {
     "name": "stdout",
     "output_type": "stream",
     "text": [
      "最终每个类别的数目为：\n",
      " KMeans(algorithm='auto', copy_x=True, init='k-means++', max_iter=300,\n",
      "       n_clusters=5, n_init=10, n_jobs=3, precompute_distances='auto',\n",
      "       random_state=123, tol=0.0001, verbose=0)\n",
      "1    20300\n",
      "4    19537\n",
      "3     9105\n",
      "0     7590\n",
      "2     4046\n",
      "dtype: int64\n"
     ]
    }
   ],
   "source": [
    "dataB_kmeans = KMeans(n_clusters = 5,n_jobs=3,random_state=123).fit(dataB) \n",
    "print('最终每个类别的数目为：\\n',dataB_kmeans)\n",
    "r2=pd.Series(dataB_kmeans.labels_).value_counts()\n",
    "print(r2)"
   ]
  },
  {
   "cell_type": "code",
   "execution_count": 13,
   "metadata": {},
   "outputs": [
    {
     "data": {
      "text/plain": [
       "array([[-1.1626991 ,  2.1312295 , -0.06995361, -0.15519457],\n",
       "       [-0.60040267, -0.3520296 , -0.59599446, -0.60595563],\n",
       "       [ 1.87382808, -0.16010739, -1.78638712, -0.02576528],\n",
       "       [-0.1862576 , -0.21503746, -0.01793718,  1.54824342],\n",
       "       [ 0.77429634, -0.32881816,  1.02475691, -0.02629288]])"
      ]
     },
     "execution_count": 13,
     "metadata": {},
     "output_type": "execute_result"
    }
   ],
   "source": [
    "dataB_kmeans.cluster_centers_"
   ]
  },
  {
   "cell_type": "code",
   "execution_count": 14,
   "metadata": {},
   "outputs": [
    {
     "data": {
      "text/plain": [
       "array([1, 1, 3, ..., 3, 4, 1])"
      ]
     },
     "execution_count": 14,
     "metadata": {},
     "output_type": "execute_result"
    }
   ],
   "source": [
    "dataB_kmeans.labels_"
   ]
  },
  {
   "cell_type": "code",
   "execution_count": 15,
   "metadata": {},
   "outputs": [],
   "source": [
    "x=data5_selection2.iloc[:,:-1]  \n",
    "y=data5_selection2.iloc[:,-1]\n",
    "dataB_pre=dataB_kmeans.predict(x) "
   ]
  },
  {
   "cell_type": "code",
   "execution_count": 16,
   "metadata": {},
   "outputs": [
    {
     "name": "stdout",
     "output_type": "stream",
     "text": [
      "[[-1.1626991   2.1312295  -0.06995361 -0.15519457]\n",
      " [-0.60040267 -0.3520296  -0.59599446 -0.60595563]\n",
      " [ 1.87382808 -0.16010739 -1.78638712 -0.02576528]\n",
      " [-0.1862576  -0.21503746 -0.01793718  1.54824342]\n",
      " [ 0.77429634 -0.32881816  1.02475691 -0.02629288]]\n"
     ]
    },
    {
     "data": {
      "image/png": "[encoded data removed]",
      "text/plain": [
       "<Figure size 432x288 with 1 Axes>"
      ]
     },
     "metadata": {
      "needs_background": "light"
     },
     "output_type": "display_data"
    }
   ],
   "source": [
    "centers=dataB_kmeans.cluster_centers_   #类别中心\n",
    "print(centers)\n",
    "colors=['r','c','b','g','y']\n",
    "plt.figure()\n",
    "for j in range(3):\n",
    "    index_set=np.where(dataB_pre==j)\n",
    "    cluster=x.iloc[index_set]\n",
    "    plt.scatter(cluster.iloc[:,0],cluster.iloc[:,1],c=colors[j],marker='.')  \n",
    "    plt.plot(centers[j][0],centers[j][1],'o',markerfacecolor=colors[j],markeredgecolor='k',markersize=8)  #画类别中心\n",
    "plt.show()"
   ]
  },
  {
   "cell_type": "code",
   "execution_count": 17,
   "metadata": {},
   "outputs": [
    {
     "name": "stdout",
     "output_type": "stream",
     "text": [
      "[[-1.1626991   2.1312295  -0.06995361 -0.15519457]\n",
      " [-0.60040267 -0.3520296  -0.59599446 -0.60595563]\n",
      " [ 1.87382808 -0.16010739 -1.78638712 -0.02576528]\n",
      " [-0.1862576  -0.21503746 -0.01793718  1.54824342]\n",
      " [ 0.77429634 -0.32881816  1.02475691 -0.02629288]]\n"
     ]
    },
    {
     "data": {
      "image/png": "[encoded data removed]",
      "text/plain": [
       "<Figure size 432x288 with 1 Axes>"
      ]
     },
     "metadata": {
      "needs_background": "light"
     },
     "output_type": "display_data"
    }
   ],
   "source": [
    "centers=dataB_kmeans.cluster_centers_   #类别中心\n",
    "print(centers)\n",
    "colors=['r','c','b','g','y']\n",
    "plt.figure()\n",
    "for j in range(3):\n",
    "    index_set=np.where(dataB_pre==j)\n",
    "    cluster=x.iloc[index_set]\n",
    "    plt.scatter(cluster.iloc[:,0],cluster.iloc[:,1],c=colors[j],marker='.')  \n",
    "    plt.plot(centers[j][0],centers[j][1],'o',markerfacecolor=colors[j],markeredgecolor='k',markersize=8)  #画类别中心\n",
    "plt.show()"
   ]
  },
  {
   "cell_type": "markdown",
   "metadata": {},
   "source": [
    "# <center><font size=3>\n",
    "    历史行为特征分别在实训二实训三的应用"
   ]
  },
  {
   "cell_type": "code",
   "execution_count": 18,
   "metadata": {},
   "outputs": [
    {
     "name": "stdout",
     "output_type": "stream",
     "text": [
      "构建的收入风险特征前5行为：\n",
      "        0  住家\n",
      "0      2   1\n",
      "1      6   1\n",
      "2      1   1\n",
      "3      6   1\n",
      "4      3   1\n",
      "5      2   1\n",
      "7      1   1\n",
      "8      1   1\n",
      "9      2   1\n",
      "10     1   1\n",
      "11     2   1\n",
      "12     2   1\n",
      "13     8   1\n",
      "14     2   1\n",
      "15     2   1\n",
      "16     4   1\n",
      "17     0   1\n",
      "18     3   1\n",
      "20     0   1\n",
      "21     7   1\n",
      "22     3   1\n",
      "23     4   1\n",
      "24     0   1\n",
      "25     3   1\n",
      "26     4   1\n",
      "27     6   1\n",
      "29     1   1\n",
      "30     4   1\n",
      "31     2   1\n",
      "32     0   1\n",
      "...   ..  ..\n",
      "65500  0   4\n",
      "65501 -2   4\n",
      "65502 -2   4\n",
      "65503  3   4\n",
      "65504  1   4\n",
      "65505 -3   4\n",
      "65506 -3   4\n",
      "65507  2   4\n",
      "65510 -1   4\n",
      "65511 -1   4\n",
      "65512 -3   4\n",
      "65513  3   4\n",
      "65514  0   4\n",
      "65515 -3   4\n",
      "65516 -1   4\n",
      "65518 -2   4\n",
      "65519 -3   4\n",
      "65520 -2   5\n",
      "65521  3   4\n",
      "65523  1   4\n",
      "65524 -4   5\n",
      "65525 -2   5\n",
      "65526 -1   5\n",
      "65527 -2   5\n",
      "65528 -2   5\n",
      "65529 -1   5\n",
      "65530  0   5\n",
      "65531 -2   5\n",
      "65532  0   5\n",
      "65534  2   1\n",
      "\n",
      "[60578 rows x 2 columns]\n",
      "标准化后收入风险情况五个特征为：\n",
      " [[ 0.42179972 -1.95817546]\n",
      " [ 1.93584489 -1.95817546]\n",
      " [ 0.04328843 -1.95817546]\n",
      " [ 1.93584489 -1.95817546]\n",
      " [ 0.80031101 -1.95817546]]\n"
     ]
    }
   ],
   "source": [
    "data5_selection3 = data5[['职业','年龄','住家']]## 选取需求特征\n",
    "L = data5_selection3[\"年龄\"]-data5_selection3[\"住家\"]\n",
    "data5_features3 = pd.concat([L,data5_selection3.iloc[:,2:]],axis = 1)\n",
    "print('构建的收入风险特征前5行为：\\n',data5_features3)\n",
    "dataC = StandardScaler().fit_transform(data5_features3)\n",
    "print('标准化后收入风险情况五个特征为：\\n',dataC[:5,:])"
   ]
  },
  {
   "cell_type": "code",
   "execution_count": 19,
   "metadata": {},
   "outputs": [
    {
     "name": "stdout",
     "output_type": "stream",
     "text": [
      "最终每个类别的数目为：\n",
      " KMeans(algorithm='auto', copy_x=True, init='k-means++', max_iter=300,\n",
      "       n_clusters=5, n_init=10, n_jobs=3, precompute_distances='auto',\n",
      "       random_state=123, tol=0.0001, verbose=0)\n",
      "0    20614\n",
      "1    14831\n",
      "4    10379\n",
      "3     8587\n",
      "2     6167\n",
      "dtype: int64\n"
     ]
    }
   ],
   "source": [
    "dataC_kmeans = KMeans(n_clusters = 5,n_jobs=3,random_state=123).fit(dataC) \n",
    "print('最终每个类别的数目为：\\n',dataC_kmeans)\n",
    "r3=pd.Series(dataC_kmeans.labels_).value_counts()\n",
    "print(r3)"
   ]
  },
  {
   "cell_type": "code",
   "execution_count": 20,
   "metadata": {},
   "outputs": [
    {
     "data": {
      "text/plain": [
       "array([[-0.54004937, -0.17050883],\n",
       "       [ 1.09010912, -0.1082891 ],\n",
       "       [ 0.14664711,  1.10205155],\n",
       "       [ 0.76055124, -1.77571465],\n",
       "       [-1.20146998,  1.30769964]])"
      ]
     },
     "execution_count": 20,
     "metadata": {},
     "output_type": "execute_result"
    }
   ],
   "source": [
    "dataC_kmeans.cluster_centers_"
   ]
  },
  {
   "cell_type": "code",
   "execution_count": 21,
   "metadata": {},
   "outputs": [
    {
     "data": {
      "text/plain": [
       "array([3, 3, 3, ..., 4, 2, 3])"
      ]
     },
     "execution_count": 21,
     "metadata": {},
     "output_type": "execute_result"
    }
   ],
   "source": [
    "dataC_kmeans.labels_"
   ]
  },
  {
   "cell_type": "code",
   "execution_count": 22,
   "metadata": {},
   "outputs": [
    {
     "name": "stdout",
     "output_type": "stream",
     "text": [
      "[[-0.54004937 -0.17050883]\n",
      " [ 1.09010912 -0.1082891 ]\n",
      " [ 0.14664711  1.10205155]\n",
      " [ 0.76055124 -1.77571465]\n",
      " [-1.20146998  1.30769964]]\n"
     ]
    },
    {
     "data": {
      "image/png": "[encoded data removed]",
      "text/plain": [
       "<Figure size 432x288 with 1 Axes>"
      ]
     },
     "metadata": {
      "needs_background": "light"
     },
     "output_type": "display_data"
    }
   ],
   "source": [
    "x=data5_selection3.iloc[:,:-1]  \n",
    "y=data5_selection3.iloc[:,-1]\n",
    "dataC_pre=dataC_kmeans.predict(x) \n",
    "centers=dataC_kmeans.cluster_centers_   #类别中心\n",
    "print(centers)\n",
    "colors=['r','c','b','g','y']\n",
    "plt.figure()\n",
    "for j in range(3):\n",
    "    index_set=np.where(dataC_pre==j)\n",
    "    cluster=x.iloc[index_set]\n",
    "    plt.scatter(cluster.iloc[:,0],cluster.iloc[:,1],c=colors[j],marker='.')  \n",
    "    plt.plot(centers[j][0],centers[j][1],'o',markerfacecolor=colors[j],markeredgecolor='k',markersize=8)  #画类别中心\n",
    "plt.show()"
   ]
  },
  {
   "cell_type": "markdown",
   "metadata": {},
   "source": [
    "# <center><font size=3>\n",
    "    历史行为特征分别在实训二实训三的应用\n",
    "    接下来是实训3部分"
   ]
  },
  {
   "cell_type": "code",
   "execution_count": 23,
   "metadata": {},
   "outputs": [
    {
     "name": "stdout",
     "output_type": "stream",
     "text": [
      "[2 2 2 ... 3 3 2]\n"
     ]
    }
   ],
   "source": [
    "clf = KMeans(n_clusters=5)  \n",
    "#表示输出将数据集分成类簇数为5的聚类#输出聚类预测结果，对X聚类，20行数据，每个y_pred对应X的一行或一个孩子，聚成3类，类标为0、1、2\n",
    "dataC_pred = clf.fit_predict(dataC)  \n",
    "print(dataC_pred)  #输出结果"
   ]
  },
  {
   "cell_type": "code",
   "execution_count": 24,
   "metadata": {
    "scrolled": false
   },
   "outputs": [
    {
     "name": "stdout",
     "output_type": "stream",
     "text": [
      "0        2\n",
      "1        2\n",
      "2        2\n",
      "3        2\n",
      "4        2\n",
      "5        2\n",
      "7        2\n",
      "8        2\n",
      "9        2\n",
      "10       2\n",
      "11       2\n",
      "12       1\n",
      "13       1\n",
      "14       2\n",
      "15       2\n",
      "16       2\n",
      "17       2\n",
      "18       1\n",
      "20       2\n",
      "21       2\n",
      "22       2\n",
      "23       1\n",
      "24       2\n",
      "25       2\n",
      "26       2\n",
      "27       2\n",
      "29       2\n",
      "30       2\n",
      "31       2\n",
      "32       2\n",
      "        ..\n",
      "65500    1\n",
      "65501    2\n",
      "65502    2\n",
      "65503    2\n",
      "65504    2\n",
      "65505    2\n",
      "65506    2\n",
      "65507    2\n",
      "65510    2\n",
      "65511    2\n",
      "65512    2\n",
      "65513    2\n",
      "65514    2\n",
      "65515    2\n",
      "65516    2\n",
      "65518    2\n",
      "65519    2\n",
      "65520    2\n",
      "65521    2\n",
      "65523    2\n",
      "65524    2\n",
      "65525    2\n",
      "65526    2\n",
      "65527    2\n",
      "65528    2\n",
      "65529    2\n",
      "65530    2\n",
      "65531    2\n",
      "65532    2\n",
      "65534    2\n",
      "Name: 借款余额, Length: 60578, dtype: int64\n",
      "0        1\n",
      "1        1\n",
      "2        1\n",
      "3        1\n",
      "4        1\n",
      "5        1\n",
      "7        1\n",
      "8        1\n",
      "9        1\n",
      "10       1\n",
      "11       1\n",
      "12       1\n",
      "13       1\n",
      "14       1\n",
      "15       1\n",
      "16       1\n",
      "17       1\n",
      "18       1\n",
      "20       1\n",
      "21       1\n",
      "22       1\n",
      "23       1\n",
      "24       1\n",
      "25       1\n",
      "26       1\n",
      "27       1\n",
      "29       1\n",
      "30       1\n",
      "31       1\n",
      "32       1\n",
      "        ..\n",
      "65500    4\n",
      "65501    4\n",
      "65502    4\n",
      "65503    4\n",
      "65504    4\n",
      "65505    4\n",
      "65506    4\n",
      "65507    4\n",
      "65510    4\n",
      "65511    4\n",
      "65512    4\n",
      "65513    4\n",
      "65514    4\n",
      "65515    4\n",
      "65516    4\n",
      "65518    4\n",
      "65519    4\n",
      "65520    4\n",
      "65521    4\n",
      "65523    4\n",
      "65524    4\n",
      "65525    4\n",
      "65526    4\n",
      "65527    4\n",
      "65528    4\n",
      "65529    4\n",
      "65530    4\n",
      "65531    4\n",
      "65532    4\n",
      "65534    1\n",
      "Name: 个人月收入, Length: 60578, dtype: int64\n"
     ]
    }
   ],
   "source": [
    "#因为\n",
    "x = data5_selection2.iloc[:,0] #获取第1列的值\n",
    "print(x) \n",
    "y = data5_selection2.iloc[:,1]#获取第2列的值\n",
    "print(y)\n",
    "# 可视化操作#绘制散点图（scatter），横轴为x，获取的第1列数据；纵轴为y，获取的第2列数据；\n",
    "#c=y_pred对聚类的预测结果画出散点图，marker='o'说明用点表示图形"
   ]
  },
  {
   "cell_type": "code",
   "execution_count": 25,
   "metadata": {
    "scrolled": false
   },
   "outputs": [
    {
     "data": {
      "text/plain": [
       "<matplotlib.collections.PathCollection at 0x1c89013d3c8>"
      ]
     },
     "execution_count": 25,
     "metadata": {},
     "output_type": "execute_result"
    },
    {
     "data": {
      "image/png": "[encoded data removed]",
      "text/plain": [
       "<Figure size 432x288 with 1 Axes>"
      ]
     },
     "metadata": {
      "needs_background": "light"
     },
     "output_type": "display_data"
    }
   ],
   "source": [
    "plt.scatter(x,y, c=dataC_pred, marker='o')"
   ]
  }
 ],
 "metadata": {
  "kernelspec": {
   "display_name": "Python 3",
   "language": "python",
   "name": "python3"
  },
  "language_info": {
   "codemirror_mode": {
    "name": "ipython",
    "version": 3
   },
   "file_extension": ".py",
   "mimetype": "text/x-python",
   "name": "python",
   "nbconvert_exporter": "python",
   "pygments_lexer": "ipython3",
   "version": "3.7.3"
  }
 },
 "nbformat": 4,
 "nbformat_minor": 2
}
